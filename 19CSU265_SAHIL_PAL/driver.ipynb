{
 "cells": [
  {
   "cell_type": "code",
   "execution_count": 4,
   "metadata": {},
   "outputs": [
    {
     "name": "stdout",
     "output_type": "stream",
     "text": [
      "             ---------------------------------------------------------------------------------------\n",
      "            |                                                                                       |\n",
      "            |                                                                                       |\n",
      "            |                                                                                       |\n",
      "            |                             _________________________                                 |\n",
      "            |                            | PRODUCTIVITY CALCULATOR |                                |\n",
      "            |                             -------------------------                                 |\n",
      "            |                                    LOGIN PAGE                                         |\n",
      "            |                                                                                       |\n",
      "            |                                                                                       |\n",
      "             --------------------------------------------------------------------------------------- \n",
      "            |                                                                                       |\n",
      "            |                                                                                       |\n",
      "            |                                                                                       |\n",
      "            |                                                                                       |\n",
      "            |    Enter Username   ----   sahilpal\n",
      "            |                                                                                       |\n",
      "            |                                                                                       |\n",
      "            |                                                                                       |\n",
      "            |    Enter Password   ----   Palgjm\n",
      "            |                                                                                       |\n",
      "            |                                                                                       |\n",
      "             --------------------------------------------------------------------------------------- \n"
     ]
    },
    {
     "ename": "FileNotFoundError",
     "evalue": "[Errno 2] No such file or directory: 'credentials.txt'",
     "output_type": "error",
     "traceback": [
      "\u001b[0;31m---------------------------------------------------------------------------\u001b[0m",
      "\u001b[0;31mFileNotFoundError\u001b[0m                         Traceback (most recent call last)",
      "\u001b[0;32m<ipython-input-4-130d562bd9e5>\u001b[0m in \u001b[0;36m<module>\u001b[0;34m\u001b[0m\n\u001b[1;32m     41\u001b[0m         \u001b[0mhomepage_terminate\u001b[0m \u001b[0;34m=\u001b[0m \u001b[0;32mTrue\u001b[0m\u001b[0;34m\u001b[0m\u001b[0;34m\u001b[0m\u001b[0m\n\u001b[1;32m     42\u001b[0m         \u001b[0mclear_output\u001b[0m\u001b[0;34m(\u001b[0m\u001b[0;34m)\u001b[0m\u001b[0;34m\u001b[0m\u001b[0;34m\u001b[0m\u001b[0m\n\u001b[0;32m---> 43\u001b[0;31m         \u001b[0mcheck\u001b[0m \u001b[0;34m=\u001b[0m \u001b[0mprocessors\u001b[0m\u001b[0;34m.\u001b[0m\u001b[0mlogin\u001b[0m\u001b[0;34m.\u001b[0m\u001b[0mdisplay\u001b[0m\u001b[0;34m(\u001b[0m\u001b[0;34m)\u001b[0m\u001b[0;34m\u001b[0m\u001b[0;34m\u001b[0m\u001b[0m\n\u001b[0m\u001b[1;32m     44\u001b[0m         \u001b[0musername\u001b[0m \u001b[0;34m=\u001b[0m \u001b[0mprocessors\u001b[0m\u001b[0;34m.\u001b[0m\u001b[0mlogin\u001b[0m\u001b[0;34m.\u001b[0m\u001b[0mget_username\u001b[0m\u001b[0;34m(\u001b[0m\u001b[0;34m)\u001b[0m\u001b[0;34m\u001b[0m\u001b[0;34m\u001b[0m\u001b[0m\n\u001b[1;32m     45\u001b[0m         \u001b[0;32mif\u001b[0m\u001b[0;34m(\u001b[0m\u001b[0mcheck\u001b[0m \u001b[0;34m==\u001b[0m \u001b[0;32mTrue\u001b[0m\u001b[0;34m)\u001b[0m\u001b[0;34m:\u001b[0m\u001b[0;34m\u001b[0m\u001b[0;34m\u001b[0m\u001b[0m\n",
      "\u001b[0;32m~/Desktop/PROJECT_PYTHON/processors/login.ipynb\u001b[0m in \u001b[0;36mdisplay\u001b[0;34m()\u001b[0m\n",
      "\u001b[0;32m~/Desktop/PROJECT_PYTHON/processors/login.ipynb\u001b[0m in \u001b[0;36mlogin_validator\u001b[0;34m(username, password)\u001b[0m\n",
      "\u001b[0;31mFileNotFoundError\u001b[0m: [Errno 2] No such file or directory: 'credentials.txt'"
     ]
    }
   ],
   "source": [
    "# main program \n",
    "\n",
    "# import the packages\n",
    "import import_ipynb\n",
    "import processors.create_user, processors.login , processors.menu, processors.credential_validator\n",
    "import processors.functions\n",
    "import processors.interface\n",
    "import time\n",
    "from IPython.display import clear_output\n",
    "\n",
    "\n",
    "homepage_terminate = False\n",
    "\n",
    "while homepage_terminate == False:\n",
    "    clear_output()\n",
    "    print(\"             --------------------------------------------------------------------------------------- \");\n",
    "    print(\"            |                                                                                       |\");\n",
    "    print(\"            |                                                                                       |\");\n",
    "    print(\"            |     Hello user, Welcome to .......                                                    |\");\n",
    "    print(\"            |                                                                                       |\");\n",
    "    print(\"            |                             _________________________                                 |\");\n",
    "    print(\"            |                            | PRODUCTIVITY CALCULATOR |                                |\");\n",
    "    print(\"            |                             -------------------------                                 |\");\n",
    "    print(\"            |                                      Homepage                                         |\");\n",
    "    print(\"            |                                                                                       |\");\n",
    "    print(\"              --------------------------------------------------------------------------------------- \");\n",
    "    print(\"            |                                                                                       |\");\n",
    "    print(\"            |                                                                                       |\");\n",
    "    print(\"            |                                                                                       |\");\n",
    "    print(\"            |    Already a user?  _______                                                           |\");\n",
    "    print(\"            |    --- Press[1] to | Login |                                                          |\");\n",
    "    print(\"            |                     -------                                                           |\");\n",
    "    print(\"            |                                                                                       |\");\n",
    "    print(\"            |    New user?        ________                                                          |\");\n",
    "    print(\"            |    --- Press[2] to | signup |                                                         |\");\n",
    "    print(\"            |                     --------                                                          |\");\n",
    "    print(\"            |                                                                                       |\");\n",
    "    print(\"             --------------------------------------------------------------------------------------- \");\n",
    "    homepage_choice = int(input(\"                Enter the choice : \"))\n",
    "    if(homepage_choice == 1):\n",
    "        homepage_terminate = True\n",
    "        clear_output()\n",
    "        check = processors.login.display()\n",
    "        username = processors.login.get_username()\n",
    "        if(check == True):\n",
    "            processors.menu.display(username)\n",
    "        else:\n",
    "            homepage_terminate = False\n",
    "    \n",
    "    elif(homepage_choice == 2):\n",
    "        homepage_terminate = True\n",
    "        check2 = processors.create_user.display()\n",
    "        if(check2 == True):\n",
    "            homepage_terminate = True\n",
    "            processors.menu.display(username)\n",
    "        else:\n",
    "            homepage_terminate = False \n",
    "    else:\n",
    "        print(\"\")\n",
    "        print(\"\")\n",
    "        print(\"\")\n",
    "        print(\"                                    < ENTER A VALID CHOICE >            \")\n",
    "        print(\"\")\n",
    "        print(\"\")\n",
    "        print(\"\")\n",
    "        time.sleep(4)\n",
    "        homepage_terminate = False\n"
   ]
  },
  {
   "cell_type": "code",
   "execution_count": null,
   "metadata": {},
   "outputs": [],
   "source": []
  },
  {
   "cell_type": "code",
   "execution_count": null,
   "metadata": {},
   "outputs": [],
   "source": []
  }
 ],
 "metadata": {
  "kernelspec": {
   "display_name": "Python 3",
   "language": "python",
   "name": "python3"
  },
  "language_info": {
   "codemirror_mode": {
    "name": "ipython",
    "version": 3
   },
   "file_extension": ".py",
   "mimetype": "text/x-python",
   "name": "python",
   "nbconvert_exporter": "python",
   "pygments_lexer": "ipython3",
   "version": "3.8.3"
  }
 },
 "nbformat": 4,
 "nbformat_minor": 4
}
