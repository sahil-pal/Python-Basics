{
 "cells": [
  {
   "cell_type": "code",
   "execution_count": 13,
   "metadata": {},
   "outputs": [],
   "source": [
    "# exception while entering the wrong time range\n",
    "class timeError(Exception):\n",
    "    def __init__(self, time, message=\"Time is not in 1 - 24 hrs range\"):\n",
    "        self.time = time\n",
    "        self.message = message\n",
    "        super().__init__(self.message)\n",
    "\n",
    "    def __str__(self):\n",
    "        return f'{self.time} -> {self.message}'\n",
    "\n",
    "# exception while entering incorrect task_type\n",
    "class typeError(Exception):\n",
    "    def __init__(self,type, message=\"Tasktype must be productive/non-productive/Essential\"):\n",
    "        self.type = type\n",
    "        self.message = message\n",
    "        super().__init__(self.message)\n",
    "\n",
    "    def __str__(self):\n",
    "        return f'{self.type} -> {self.message}'\n",
    "    \n",
    "\n",
    "    \n",
    "\n",
    "    "
   ]
  }
 ],
 "metadata": {
  "kernelspec": {
   "display_name": "Python 3",
   "language": "python",
   "name": "python3"
  },
  "language_info": {
   "codemirror_mode": {
    "name": "ipython",
    "version": 3
   },
   "file_extension": ".py",
   "mimetype": "text/x-python",
   "name": "python",
   "nbconvert_exporter": "python",
   "pygments_lexer": "ipython3",
   "version": "3.8.3"
  }
 },
 "nbformat": 4,
 "nbformat_minor": 4
}
