{
 "cells": [
  {
   "cell_type": "code",
   "execution_count": null,
   "metadata": {},
   "outputs": [
    {
     "name": "stdout",
     "output_type": "stream",
     "text": [
      "             ---------------------------------------------------------------------------------------\n",
      "            |                             _________________________                                 |\n",
      "            |                            | PRODUCTIVITY CALCULATOR |                                |\n",
      "            |                             -------------------------                                 |\n",
      "            |                             CALCULATING PRODUCTIVITY...                               |\n",
      "             --------------------------------------------------------------------------------------- \n",
      "            |                                                                                       |\n",
      "            | sahilpal123 ,  your productivity is :  73.53  😃                                         |\n",
      "            |             ---> Your productive hours :  5.0                                         |\n",
      "            |             ---> Your total hours of task :  6.8                                     |\n",
      "            |                                                                                       |\n",
      "            |                                                                                       |\n",
      "             ---------------------------------------------------------------------------------------\n",
      "\n"
     ]
    }
   ],
   "source": [
    "# main program \n",
    "\n",
    "# import the packages\n",
    "import import_ipynb\n",
    "import interface\n",
    "import create_user,login,menu\n",
    "import time\n",
    "from IPython.display import clear_output\n",
    "\n",
    "# homepage \n",
    "homepage_terminate = False\n",
    "while homepage_terminate == False:\n",
    "    clear_output()\n",
    "    print(\"             --------------------------------------------------------------------------------------- \");\n",
    "    print(\"            |                                                                                       |\");\n",
    "    print(\"            |                                                                                       |\");\n",
    "    print(\"            |     Hello user, Welcome to .......                                                    |\");\n",
    "    print(\"            |                                                                                       |\");\n",
    "    print(\"            |                             _________________________                                 |\");\n",
    "    print(\"            |                            | PRODUCTIVITY CALCULATOR |                                |\");\n",
    "    print(\"            |                             -------------------------                                 |\");\n",
    "    print(\"            |                                      Homepage                                         |\");\n",
    "    print(\"            |                                                                                       |\");\n",
    "    print(\"              --------------------------------------------------------------------------------------- \");\n",
    "    print(\"            |                                                                                       |\");\n",
    "    print(\"            |                                                                                       |\");\n",
    "    print(\"            |                                                                                       |\");\n",
    "    print(\"            |    Already a user?  _______                                                           |\");\n",
    "    print(\"            |    --- Press[1] to | Login |                                                          |\");\n",
    "    print(\"            |                     -------                                                           |\");\n",
    "    print(\"            |                                                                                       |\");\n",
    "    print(\"            |    New user?        ________                                                          |\");\n",
    "    print(\"            |    --- Press[2] to | signup |                                                         |\");\n",
    "    print(\"            |                     --------                                                          |\");\n",
    "    print(\"            |                                                                                       |\");\n",
    "    print(\"             --------------------------------------------------------------------------------------- \");\n",
    "    homepage_choice = int(input(\"                Enter the choice : \"))\n",
    "    if(homepage_choice == 1):\n",
    "        homepage_terminate = True\n",
    "        check,username = login.display()\n",
    "        interface.loading()\n",
    "        # on the basis of credential check , furthur move to main menu page\n",
    "        if(check == \"True\"):\n",
    "            menu.display(username)\n",
    "        else:\n",
    "            homepage_terminate = False\n",
    "    \n",
    "    elif(homepage_choice == 2):\n",
    "        homepage_terminate = True\n",
    "        check2,username = create_user.display()\n",
    "        interface.loading()\n",
    "        # on the basis of credential check , furthur move to main menu page\n",
    "        if(check2 == \"True\"):\n",
    "            menu.display(username)\n",
    "        else:\n",
    "            homepage_terminate = False \n",
    "    else:\n",
    "        print(\"\")\n",
    "        print(\"\")\n",
    "        print(\"\")\n",
    "        print(\"                                    < ENTER A VALID CHOICE >            \")\n",
    "        print(\"\")\n",
    "        print(\"\")\n",
    "        print(\"\")\n",
    "        time.sleep(2)\n",
    "        #space for loading\n",
    "        homepage_terminate = False\n"
   ]
  },
  {
   "cell_type": "code",
   "execution_count": null,
   "metadata": {},
   "outputs": [],
   "source": []
  }
 ],
 "metadata": {
  "kernelspec": {
   "display_name": "Python 3",
   "language": "python",
   "name": "python3"
  },
  "language_info": {
   "codemirror_mode": {
    "name": "ipython",
    "version": 3
   },
   "file_extension": ".py",
   "mimetype": "text/x-python",
   "name": "python",
   "nbconvert_exporter": "python",
   "pygments_lexer": "ipython3",
   "version": "3.8.3"
  }
 },
 "nbformat": 4,
 "nbformat_minor": 4
}
